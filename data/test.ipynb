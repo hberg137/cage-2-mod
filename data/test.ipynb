{
 "cells": [
  {
   "cell_type": "code",
   "execution_count": 1,
   "metadata": {},
   "outputs": [],
   "source": [
    "import numpy as np"
   ]
  },
  {
   "cell_type": "code",
   "execution_count": 38,
   "metadata": {},
   "outputs": [],
   "source": [
    "cardiff_original = np.load(\"../results/Scenario2_RED_MB_MODEL_MB_MEANDER.npy\")\n",
    "cardiff_abstract = np.load(\"../results/Scenario2_RED_MB_MODEL_MB_MEANDER_ABSTRACT.npy\")\n",
    "oracle_switch_original = np.load(\"../results/Scenario2_RED_MB_MODEL_MB_ORACLE.npy\")\n",
    "oracle_switch_abstract = np.load(\"../results/Scenario2_RED_MB_MODEL_MB_ORACLE_ABSTRACT.npy\")\n",
    "learned_switch_original = np.load(\"../results/Scenario2_RED_MB_MODEL_MB_LEARNED.npy\")\n",
    "learned_switch_abstract = np.load(\"../results/Scenario2_RED_MB_MODEL_MB_LEARNED_ABSTRACT.npy\")"
   ]
  },
  {
   "cell_type": "code",
   "execution_count": 40,
   "metadata": {},
   "outputs": [
    {
     "name": "stdout",
     "output_type": "stream",
     "text": [
      "Cardiff original mean: -32.034099999999995\n",
      "Cardiff original stdev: 7.777254476356036\n",
      "Cardiff abstract mean: -32.034099999999995\n",
      "Cardiff abstract mean: 7.777254476356036\n"
     ]
    }
   ],
   "source": [
    "print(\"Cardiff original mean:\", cardiff_original.sum(1).mean())\n",
    "print(\"Cardiff original stdev:\", cardiff_original.sum(1).std())\n",
    "print(\"Cardiff abstract mean:\", cardiff_abstract.sum(1).mean())\n",
    "print(\"Cardiff abstract stdev:\", cardiff_abstract.sum(1).std())"
   ]
  },
  {
   "cell_type": "code",
   "execution_count": 41,
   "metadata": {},
   "outputs": [
    {
     "name": "stdout",
     "output_type": "stream",
     "text": [
      "Oracle switch original mean: -17.845200000000006\n",
      "Oracle switch original stdev: 5.085201761975626\n",
      "Oracle switch abstract mean: -17.845200000000006\n",
      "Oracle switch abstract stdev: 5.085201761975626\n"
     ]
    }
   ],
   "source": [
    "print(\"Oracle switch original mean:\", oracle_switch_original.sum(1).mean())\n",
    "print(\"Oracle switch original stdev:\", oracle_switch_original.sum(1).std())\n",
    "print(\"Oracle switch abstract mean:\", oracle_switch_abstract.sum(1).mean())\n",
    "print(\"Oracle switch abstract stdev:\", oracle_switch_abstract.sum(1).std())"
   ]
  },
  {
   "cell_type": "code",
   "execution_count": 42,
   "metadata": {},
   "outputs": [
    {
     "name": "stdout",
     "output_type": "stream",
     "text": [
      "Learned switch original mean: -19.566700000000004\n",
      "Learned switch original stdev: 9.210843669827428\n",
      "Learned switch abstract mean: -19.566700000000004\n",
      "Learned switch abstract stdev: 9.210843669827428\n"
     ]
    }
   ],
   "source": [
    "print(\"Learned switch original mean:\", learned_switch_original.sum(1).mean())\n",
    "print(\"Learned switch original stdev:\", learned_switch_original.sum(1).std())\n",
    "print(\"Learned switch abstract mean:\", learned_switch_abstract.sum(1).mean())\n",
    "print(\"Learned switch abstract stdev:\", learned_switch_abstract.sum(1).std())"
   ]
  },
  {
   "cell_type": "code",
   "execution_count": null,
   "metadata": {},
   "outputs": [],
   "source": []
  }
 ],
 "metadata": {
  "kernelspec": {
   "display_name": "airtrees",
   "language": "python",
   "name": "python3"
  },
  "language_info": {
   "codemirror_mode": {
    "name": "ipython",
    "version": 3
   },
   "file_extension": ".py",
   "mimetype": "text/x-python",
   "name": "python",
   "nbconvert_exporter": "python",
   "pygments_lexer": "ipython3",
   "version": "3.10.13"
  },
  "orig_nbformat": 4
 },
 "nbformat": 4,
 "nbformat_minor": 2
}
